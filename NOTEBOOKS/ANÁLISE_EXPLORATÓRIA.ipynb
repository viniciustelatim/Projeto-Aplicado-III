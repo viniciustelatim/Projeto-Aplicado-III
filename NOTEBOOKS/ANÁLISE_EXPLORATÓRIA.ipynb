{
  "cells": [
    {
      "cell_type": "code",
      "source": [
        "# Importando as bibliotecas necessárias\n",
        "\n",
        "import pandas as pd\n",
        "import matplotlib.pyplot as plt\n",
        "import seaborn as sns\n",
        "import tensorflow as tf\n",
        "import numpy as np\n",
        "from wordcloud import WordCloud\n",
        "import gzip\n",
        "import json"
      ],
      "metadata": {
        "id": "1zlay3J5YP5k"
      },
      "execution_count": null,
      "outputs": []
    },
    {
      "cell_type": "code",
      "source": [
        "#Baixandos os Datasets\n",
        "\n",
        "!wget https://datarepo.eng.ucsd.edu/mcauley_group/data/amazon_v2/categoryFilesSmall/AMAZON_FASHION_5.json.gz\n",
        "!wget https://datarepo.eng.ucsd.edu/mcauley_group/data/amazon_v2/categoryFilesSmall/All_Beauty_5.json.gz\n",
        "!wget https://datarepo.eng.ucsd.edu/mcauley_group/data/amazon_v2/categoryFilesSmall/Appliances_5.json.gz\n",
        "!wget https://datarepo.eng.ucsd.edu/mcauley_group/data/amazon_v2/categoryFilesSmall/Gift_Cards_5.json.gz\n",
        "!wget https://datarepo.eng.ucsd.edu/mcauley_group/data/amazon_v2/categoryFilesSmall/Industrial_and_Scientific_5.json.gz\n",
        "!wget https://datarepo.eng.ucsd.edu/mcauley_group/data/amazon_v2/categoryFilesSmall/Luxury_Beauty_5.json.gz\n",
        "!wget https://datarepo.eng.ucsd.edu/mcauley_group/data/amazon_v2/categoryFilesSmall/Magazine_Subscriptions_5.json.gz\n",
        "!wget https://datarepo.eng.ucsd.edu/mcauley_group/data/amazon_v2/categoryFilesSmall/Software_5.json.gz"
      ],
      "metadata": {
        "id": "B_z5v6Y_dc6Z"
      },
      "execution_count": null,
      "outputs": []
    },
    {
      "cell_type": "code",
      "source": [
        "# Juntando todos os Datasets em um único DataFrame\n",
        "\n",
        "file_paths = ['/content/AMAZON_FASHION_5.json.gz', '/content/All_Beauty_5.json.gz', '/content/Appliances_5.json.gz',\n",
        "              '/content/Gift_Cards_5.json.gz', '/content/Industrial_and_Scientific_5.json.gz', '/content/Luxury_Beauty_5.json.gz', '/content/Magazine_Subscriptions_5.json.gz',\n",
        "              '/content/Software_5.json.gz']\n",
        "\n",
        "dataframes = []\n",
        "\n",
        "def parse(path):\n",
        "  g = gzip.open(path, 'rb')\n",
        "  for l in g:\n",
        "    yield json.loads(l)\n",
        "\n",
        "def getDF(path):\n",
        "  i = 0\n",
        "  df = {}\n",
        "  for d in parse(path):\n",
        "    df[i] = d\n",
        "    i += 1\n",
        "  return pd.DataFrame.from_dict(df, orient='index')\n",
        "\n",
        "for file_path in file_paths:\n",
        "    a = getDF(file_path)\n",
        "    dataframes.append(a)\n",
        "\n",
        "data = pd.concat(dataframes, ignore_index=True)"
      ],
      "metadata": {
        "id": "dalU8TQsYNba"
      },
      "execution_count": null,
      "outputs": []
    },
    {
      "cell_type": "code",
      "source": [
        "data.head(5)"
      ],
      "metadata": {
        "id": "4mAiga87YRvL"
      },
      "execution_count": null,
      "outputs": []
    },
    {
      "cell_type": "code",
      "execution_count": null,
      "metadata": {
        "id": "5jwruy1jOn6D"
      },
      "outputs": [],
      "source": [
        "#Colunas\n",
        "data.columns"
      ]
    },
    {
      "cell_type": "code",
      "execution_count": null,
      "metadata": {
        "id": "LuPUggGUOopQ"
      },
      "outputs": [],
      "source": [
        "#Informações das colunas\n",
        "data.info()"
      ]
    },
    {
      "cell_type": "code",
      "execution_count": null,
      "metadata": {
        "id": "PTUXrv4GOp-q"
      },
      "outputs": [],
      "source": [
        "#Estatísticas das variáveis numéricas\n",
        "data.describe()"
      ]
    },
    {
      "cell_type": "code",
      "execution_count": null,
      "metadata": {
        "id": "LQYfIMs4OrSA"
      },
      "outputs": [],
      "source": [
        "#Valores nulos por coluna\n",
        "data.isnull().sum()"
      ]
    },
    {
      "cell_type": "code",
      "execution_count": null,
      "metadata": {
        "id": "n1JOqKwMOtji"
      },
      "outputs": [],
      "source": [
        "#Contagem de notas\n",
        "contagem_notas = data['overall'].value_counts()\n",
        "plt.figure(figsize=(5, 4))\n",
        "sns.barplot(x=contagem_notas.index, y=contagem_notas.values, palette='viridis')\n",
        "plt.title('Contagem de Notas')\n",
        "plt.xlabel('Nota')\n",
        "plt.ylabel('Contagem')\n",
        "plt.show()"
      ]
    },
    {
      "cell_type": "code",
      "execution_count": null,
      "metadata": {
        "id": "8GiOSqEtOu4N"
      },
      "outputs": [],
      "source": [
        "#Distribuição das notas\n",
        "plt.figure(figsize=(5, 4))\n",
        "sns.histplot(data['overall'], bins=5, kde=True)\n",
        "plt.title('Distribuição das Notas')\n",
        "plt.xlabel('Nota')\n",
        "plt.ylabel('Frequência')\n",
        "plt.ylim(0, 100000)\n",
        "plt.show()"
      ]
    },
    {
      "cell_type": "code",
      "execution_count": null,
      "metadata": {
        "id": "pdNUohpCOwt0"
      },
      "outputs": [],
      "source": [
        "#Boxplot das notas\n",
        "plt.figure(figsize=(5, 4))\n",
        "sns.boxplot(x=data['overall'])\n",
        "plt.title('Boxplot das Notas')\n",
        "plt.xlabel('Nota')\n",
        "plt.show()"
      ]
    },
    {
      "cell_type": "code",
      "execution_count": null,
      "metadata": {
        "id": "-QiwRaHMOx_6"
      },
      "outputs": [],
      "source": [
        "#Wordcloud avaliações\n",
        "comment_wordcloud = WordCloud(width=800, height=400, background_color='white').generate(' '.join(data['reviewText'].astype(str)))\n",
        "plt.figure(figsize=(7, 5))\n",
        "plt.imshow(comment_wordcloud, interpolation='bilinear')\n",
        "plt.axis('off')\n",
        "plt.title('Wordcloud das Comentários')\n",
        "plt.show()"
      ]
    },
    {
      "cell_type": "code",
      "execution_count": null,
      "metadata": {
        "id": "GtdGx3FfPFep"
      },
      "outputs": [],
      "source": [
        "# Número de clientes e produtos únicos\n",
        "produtos_unicos = data['asin'].nunique()\n",
        "clientes_unicos = data['reviewerID'].nunique()\n",
        "\n",
        "print(\"Número de Produtos Únicos:\", produtos_unicos)\n",
        "print(\"Número de Clientes Únicos:\", clientes_unicos)"
      ]
    },
    {
      "cell_type": "code",
      "source": [
        "data.to_csv('Dataset_Amazon.csv', index=False)"
      ],
      "metadata": {
        "id": "TIjmaneSmH1c"
      },
      "execution_count": null,
      "outputs": []
    }
  ],
  "metadata": {
    "colab": {
      "provenance": []
    },
    "kernelspec": {
      "display_name": "Python 3",
      "name": "python3"
    },
    "language_info": {
      "name": "python"
    }
  },
  "nbformat": 4,
  "nbformat_minor": 0
}